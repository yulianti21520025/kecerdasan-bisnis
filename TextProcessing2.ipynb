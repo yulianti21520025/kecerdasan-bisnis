{
  "nbformat": 4,
  "nbformat_minor": 0,
  "metadata": {
    "colab": {
      "provenance": []
    },
    "kernelspec": {
      "name": "python3",
      "display_name": "Python 3"
    },
    "language_info": {
      "name": "python"
    }
  },
  "cells": [
    {
      "cell_type": "code",
      "execution_count": 1,
      "metadata": {
        "colab": {
          "base_uri": "https://localhost:8080/"
        },
        "id": "Q2TbCdsH9ehO",
        "outputId": "8133320b-c12e-49e3-d255-2b045f257a33"
      },
      "outputs": [
        {
          "output_type": "execute_result",
          "data": {
            "text/plain": [
              "['The Industrial Revolution 4.0 is changing most of the business activities',\n",
              " 'The Industrial Revolution 4.0 has five technologies that are the main points',\n",
              " 'Industry 4.0 opens new challenges for companies']"
            ]
          },
          "metadata": {},
          "execution_count": 1
        }
      ],
      "source": [
        "corpus = [\n",
        "    'The Industrial Revolution 4.0 is changing most of the business activities',\n",
        "    'The Industrial Revolution 4.0 has five technologies that are the main points',\n",
        "    'Industry 4.0 opens new challenges for companies'\n",
        "]\n",
        "\n",
        "corpus"
      ]
    },
    {
      "cell_type": "code",
      "source": [
        "from sklearn.feature_extraction.text import CountVectorizer\n",
        "\n",
        "vectorizer = CountVectorizer()\n",
        "vectorizer_x = vectorizer.fit_transform(corpus).todense()\n",
        "vectorizer_x"
      ],
      "metadata": {
        "colab": {
          "base_uri": "https://localhost:8080/"
        },
        "id": "e3FBk3Zr_zjm",
        "outputId": "22406538-0d83-49db-8c63-f85ee124530d"
      },
      "execution_count": 2,
      "outputs": [
        {
          "output_type": "execute_result",
          "data": {
            "text/plain": [
              "matrix([[1, 0, 1, 0, 1, 0, 0, 0, 0, 1, 0, 1, 0, 1, 0, 1, 0, 0, 1, 0, 0,\n",
              "         2],\n",
              "        [0, 1, 0, 0, 0, 0, 1, 0, 1, 1, 0, 0, 1, 0, 0, 0, 0, 1, 1, 1, 1,\n",
              "         2],\n",
              "        [0, 0, 0, 1, 0, 1, 0, 1, 0, 0, 1, 0, 0, 0, 1, 0, 1, 0, 0, 0, 0,\n",
              "         0]])"
            ]
          },
          "metadata": {},
          "execution_count": 2
        }
      ]
    },
    {
      "cell_type": "code",
      "source": [
        "vectorizer.get_feature_names()"
      ],
      "metadata": {
        "colab": {
          "base_uri": "https://localhost:8080/"
        },
        "id": "1IBB7awgA49h",
        "outputId": "d86dfa66-c7c7-4c2e-c9aa-ff296d939383"
      },
      "execution_count": 4,
      "outputs": [
        {
          "output_type": "stream",
          "name": "stderr",
          "text": [
            "/usr/local/lib/python3.8/dist-packages/sklearn/utils/deprecation.py:87: FutureWarning: Function get_feature_names is deprecated; get_feature_names is deprecated in 1.0 and will be removed in 1.2. Please use get_feature_names_out instead.\n",
            "  warnings.warn(msg, category=FutureWarning)\n"
          ]
        },
        {
          "output_type": "execute_result",
          "data": {
            "text/plain": [
              "['activities',\n",
              " 'are',\n",
              " 'business',\n",
              " 'challenges',\n",
              " 'changing',\n",
              " 'companies',\n",
              " 'five',\n",
              " 'for',\n",
              " 'has',\n",
              " 'industrial',\n",
              " 'industry',\n",
              " 'is',\n",
              " 'main',\n",
              " 'most',\n",
              " 'new',\n",
              " 'of',\n",
              " 'opens',\n",
              " 'points',\n",
              " 'revolution',\n",
              " 'technologies',\n",
              " 'that',\n",
              " 'the']"
            ]
          },
          "metadata": {},
          "execution_count": 4
        }
      ]
    },
    {
      "cell_type": "markdown",
      "source": [
        "Euclidean Distance untuk mengukur kedekatan/jarak antar dokumen (vector)"
      ],
      "metadata": {
        "id": "XVZGhxWEBVj8"
      }
    },
    {
      "cell_type": "code",
      "source": [
        "from sklearn.metrics.pairwise import euclidean_distances\n",
        "\n",
        "for i in range(len(vectorizer_x)):\n",
        "  for j in range(i, len(vectorizer_x)):\n",
        "    if i==j:\n",
        "      continue\n",
        "    jarak = euclidean_distances(vectorizer_x[i], vectorizer_x[j])\n",
        "    print(f'Jarak dokumen {i+1} dan {j+1}: {jarak}')  "
      ],
      "metadata": {
        "colab": {
          "base_uri": "https://localhost:8080/"
        },
        "id": "LX2GCGPuBebm",
        "outputId": "c1c82662-5676-4432-ed49-3e6cece2ab90"
      },
      "execution_count": 5,
      "outputs": [
        {
          "output_type": "stream",
          "name": "stdout",
          "text": [
            "Jarak dokumen 1 dan 2: [[3.60555128]]\n",
            "Jarak dokumen 1 dan 3: [[4.24264069]]\n",
            "Jarak dokumen 2 dan 3: [[4.35889894]]\n"
          ]
        },
        {
          "output_type": "stream",
          "name": "stderr",
          "text": [
            "/usr/local/lib/python3.8/dist-packages/sklearn/utils/validation.py:593: FutureWarning: np.matrix usage is deprecated in 1.0 and will raise a TypeError in 1.2. Please convert to a numpy array with np.asarray. For more information see: https://numpy.org/doc/stable/reference/generated/numpy.matrix.html\n",
            "  warnings.warn(\n",
            "/usr/local/lib/python3.8/dist-packages/sklearn/utils/validation.py:593: FutureWarning: np.matrix usage is deprecated in 1.0 and will raise a TypeError in 1.2. Please convert to a numpy array with np.asarray. For more information see: https://numpy.org/doc/stable/reference/generated/numpy.matrix.html\n",
            "  warnings.warn(\n",
            "/usr/local/lib/python3.8/dist-packages/sklearn/utils/validation.py:593: FutureWarning: np.matrix usage is deprecated in 1.0 and will raise a TypeError in 1.2. Please convert to a numpy array with np.asarray. For more information see: https://numpy.org/doc/stable/reference/generated/numpy.matrix.html\n",
            "  warnings.warn(\n",
            "/usr/local/lib/python3.8/dist-packages/sklearn/utils/validation.py:593: FutureWarning: np.matrix usage is deprecated in 1.0 and will raise a TypeError in 1.2. Please convert to a numpy array with np.asarray. For more information see: https://numpy.org/doc/stable/reference/generated/numpy.matrix.html\n",
            "  warnings.warn(\n",
            "/usr/local/lib/python3.8/dist-packages/sklearn/utils/validation.py:593: FutureWarning: np.matrix usage is deprecated in 1.0 and will raise a TypeError in 1.2. Please convert to a numpy array with np.asarray. For more information see: https://numpy.org/doc/stable/reference/generated/numpy.matrix.html\n",
            "  warnings.warn(\n",
            "/usr/local/lib/python3.8/dist-packages/sklearn/utils/validation.py:593: FutureWarning: np.matrix usage is deprecated in 1.0 and will raise a TypeError in 1.2. Please convert to a numpy array with np.asarray. For more information see: https://numpy.org/doc/stable/reference/generated/numpy.matrix.html\n",
            "  warnings.warn(\n"
          ]
        }
      ]
    },
    {
      "cell_type": "markdown",
      "source": [
        "Stop Word Filtering pada text"
      ],
      "metadata": {
        "id": "FPbpyEF_C05p"
      }
    },
    {
      "cell_type": "code",
      "source": [
        "from sklearn.feature_extraction.text import CountVectorizer\n",
        "\n",
        "vectorizer = CountVectorizer(stop_words='english')\n",
        "vectorizer_x = vectorizer.fit_transform(corpus).todense()\n",
        "vectorizer_x"
      ],
      "metadata": {
        "colab": {
          "base_uri": "https://localhost:8080/"
        },
        "id": "x112D8eqBMDK",
        "outputId": "5404f3e8-3414-401a-87e0-10bae4514afe"
      },
      "execution_count": 7,
      "outputs": [
        {
          "output_type": "execute_result",
          "data": {
            "text/plain": [
              "matrix([[1, 1, 0, 1, 0, 1, 0, 0, 0, 0, 0, 1, 0],\n",
              "        [0, 0, 0, 0, 0, 1, 0, 1, 0, 0, 1, 1, 1],\n",
              "        [0, 0, 1, 0, 1, 0, 1, 0, 1, 1, 0, 0, 0]])"
            ]
          },
          "metadata": {},
          "execution_count": 7
        }
      ]
    },
    {
      "cell_type": "code",
      "source": [
        "vectorizer.get_feature_names()"
      ],
      "metadata": {
        "colab": {
          "base_uri": "https://localhost:8080/"
        },
        "id": "yEkUEGVIDin3",
        "outputId": "90bdd1a5-280b-45a3-9fd9-41219ef87143"
      },
      "execution_count": 8,
      "outputs": [
        {
          "output_type": "stream",
          "name": "stderr",
          "text": [
            "/usr/local/lib/python3.8/dist-packages/sklearn/utils/deprecation.py:87: FutureWarning: Function get_feature_names is deprecated; get_feature_names is deprecated in 1.0 and will be removed in 1.2. Please use get_feature_names_out instead.\n",
            "  warnings.warn(msg, category=FutureWarning)\n"
          ]
        },
        {
          "output_type": "execute_result",
          "data": {
            "text/plain": [
              "['activities',\n",
              " 'business',\n",
              " 'challenges',\n",
              " 'changing',\n",
              " 'companies',\n",
              " 'industrial',\n",
              " 'industry',\n",
              " 'main',\n",
              " 'new',\n",
              " 'opens',\n",
              " 'points',\n",
              " 'revolution',\n",
              " 'technologies']"
            ]
          },
          "metadata": {},
          "execution_count": 8
        }
      ]
    }
  ]
}